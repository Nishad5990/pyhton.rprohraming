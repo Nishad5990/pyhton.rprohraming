{
  "nbformat": 4,
  "nbformat_minor": 0,
  "metadata": {
    "colab": {
      "name": "Exam2.ipynb",
      "provenance": [],
      "collapsed_sections": [],
      "authorship_tag": "ABX9TyPARc+y3mX07hmEewcgzSqq",
      "include_colab_link": true
    },
    "kernelspec": {
      "name": "python3",
      "display_name": "Python 3"
    },
    "language_info": {
      "name": "python"
    }
  },
  "cells": [
    {
      "cell_type": "markdown",
      "metadata": {
        "id": "view-in-github",
        "colab_type": "text"
      },
      "source": [
        "<a href=\"https://colab.research.google.com/github/Nishad5990/pyhton.rprohraming/blob/main/Exam2.ipynb\" target=\"_parent\"><img src=\"https://colab.research.google.com/assets/colab-badge.svg\" alt=\"Open In Colab\"/></a>"
      ]
    },
    {
      "cell_type": "markdown",
      "source": [
        "Q1)"
      ],
      "metadata": {
        "id": "beJ5I-qhm1Lw"
      }
    },
    {
      "cell_type": "code",
      "execution_count": 1,
      "metadata": {
        "colab": {
          "base_uri": "https://localhost:8080/"
        },
        "id": "8ekFfUAVldy1",
        "outputId": "4f2a485a-a435-47b2-e911-f9e5db27066d"
      },
      "outputs": [
        {
          "output_type": "stream",
          "name": "stdout",
          "text": [
            "Enter the hours: 1\n",
            "Enter the mins: 1\n",
            "total seconds =  3660\n"
          ]
        }
      ],
      "source": [
        "h=int(input(\"Enter the hours: \"))*3600\n",
        "m=int(input(\"Enter the mins: \"))*60\n",
        "\n",
        "t=h+m\n",
        "\n",
        "print(\"total seconds = \",t)"
      ]
    },
    {
      "cell_type": "markdown",
      "source": [
        "Q7.)"
      ],
      "metadata": {
        "id": "PDkKbBqWm4Z_"
      }
    },
    {
      "cell_type": "code",
      "source": [
        "\n",
        "r=int(input(\"Enter the amount in paise\"))\n",
        "\n",
        "amt_1 = r//100\n",
        "amt_2= r%100\n",
        "print (\"the converted amount is\",(amt_1),\"Rupees and \", amt_2,\"paise\")\n"
      ],
      "metadata": {
        "colab": {
          "base_uri": "https://localhost:8080/"
        },
        "id": "FfZyXj-zmfnX",
        "outputId": "53264c29-3f2e-40bd-a2e7-530a01af4cd6"
      },
      "execution_count": 15,
      "outputs": [
        {
          "output_type": "stream",
          "name": "stdout",
          "text": [
            "Enter the amount in paise720\n",
            "the converted amount is 7 Rupees and  20 paise\n"
          ]
        }
      ]
    },
    {
      "cell_type": "code",
      "source": [
        ""
      ],
      "metadata": {
        "id": "GxW4lgzTwCXD"
      },
      "execution_count": null,
      "outputs": []
    },
    {
      "cell_type": "markdown",
      "source": [
        "Q3.)"
      ],
      "metadata": {
        "id": "L_mCzTnWwDCt"
      }
    },
    {
      "cell_type": "code",
      "source": [
        "for i in range (1,6):\n",
        "  for j in range (i,i+i):\n",
        "    print(j%2,end=\" \")\n",
        "  print()"
      ],
      "metadata": {
        "colab": {
          "base_uri": "https://localhost:8080/"
        },
        "id": "_3dCQH04oxbA",
        "outputId": "d877bc89-9b8e-459e-c554-45ddc969fe96"
      },
      "execution_count": 64,
      "outputs": [
        {
          "output_type": "stream",
          "name": "stdout",
          "text": [
            "1 \n",
            "0 1 \n",
            "1 0 1 \n",
            "0 1 0 1 \n",
            "1 0 1 0 1 \n"
          ]
        }
      ]
    },
    {
      "cell_type": "markdown",
      "source": [
        "Q8)"
      ],
      "metadata": {
        "id": "rlm3f0JtwHWd"
      }
    },
    {
      "cell_type": "code",
      "source": [
        "r= int(input('Enter the number of rows :'))\n",
        "for i in range (r+1):\n",
        "  for j in range (1, i+2):\n",
        "    print(j, end=\"\")\n",
        "print()"
      ],
      "metadata": {
        "colab": {
          "base_uri": "https://localhost:8080/"
        },
        "id": "-4c_aJHIqbnx",
        "outputId": "9cebd811-497c-46a8-e49f-015cb051df83"
      },
      "execution_count": 40,
      "outputs": [
        {
          "output_type": "stream",
          "name": "stdout",
          "text": [
            "Enter the number of rows :5\n",
            "112123123412345123456\n"
          ]
        }
      ]
    },
    {
      "cell_type": "code",
      "source": [
        ""
      ],
      "metadata": {
        "id": "M5Ln6oVPuEPv"
      },
      "execution_count": 60,
      "outputs": []
    },
    {
      "cell_type": "code",
      "source": [
        "#Q.5)"
      ],
      "metadata": {
        "id": "c4uYSD6C4dhR"
      },
      "execution_count": null,
      "outputs": []
    },
    {
      "cell_type": "code",
      "source": [
        "class maths:\n",
        "  def __init__ (self,a,b):\n",
        "    self.a=a\n",
        "    self.b=b\n",
        "  def add(self):\n",
        "    return self.a+self.b\n",
        "  def div(self):\n",
        "    return self.a/self.b\n",
        "  def sub(self):\n",
        "    return self.a-self.b\n",
        "  def  mul(self):\n",
        "    return self.a*self.b\n",
        "\n"
      ],
      "metadata": {
        "id": "ehaIkfGnwOBU"
      },
      "execution_count": 42,
      "outputs": []
    },
    {
      "cell_type": "code",
      "source": [
        "a=maths(20,30)"
      ],
      "metadata": {
        "id": "NGwfDGqDw4YF"
      },
      "execution_count": 43,
      "outputs": []
    },
    {
      "cell_type": "code",
      "source": [
        "a.add()"
      ],
      "metadata": {
        "colab": {
          "base_uri": "https://localhost:8080/"
        },
        "id": "r_NumV-sw9B8",
        "outputId": "0ab15b57-d637-4e25-fda7-05cce08a30fb"
      },
      "execution_count": 44,
      "outputs": [
        {
          "output_type": "execute_result",
          "data": {
            "text/plain": [
              "50"
            ]
          },
          "metadata": {},
          "execution_count": 44
        }
      ]
    },
    {
      "cell_type": "code",
      "source": [
        "a.sub()"
      ],
      "metadata": {
        "colab": {
          "base_uri": "https://localhost:8080/"
        },
        "id": "ISR1Docjw-xd",
        "outputId": "1d60f144-8d54-4388-e5fc-43240352b2ab"
      },
      "execution_count": 45,
      "outputs": [
        {
          "output_type": "execute_result",
          "data": {
            "text/plain": [
              "-10"
            ]
          },
          "metadata": {},
          "execution_count": 45
        }
      ]
    },
    {
      "cell_type": "code",
      "source": [
        "a.mul()"
      ],
      "metadata": {
        "colab": {
          "base_uri": "https://localhost:8080/"
        },
        "id": "Mz9D0_YexBBi",
        "outputId": "a1371be6-e758-4b5a-c18a-7d286bade6a7"
      },
      "execution_count": 47,
      "outputs": [
        {
          "output_type": "execute_result",
          "data": {
            "text/plain": [
              "600"
            ]
          },
          "metadata": {},
          "execution_count": 47
        }
      ]
    },
    {
      "cell_type": "code",
      "source": [
        "a.div()"
      ],
      "metadata": {
        "colab": {
          "base_uri": "https://localhost:8080/"
        },
        "id": "G95RLJIMxDGL",
        "outputId": "a68c953b-2e3f-4b01-d375-6fbd617e3fbb"
      },
      "execution_count": 48,
      "outputs": [
        {
          "output_type": "execute_result",
          "data": {
            "text/plain": [
              "0.6666666666666666"
            ]
          },
          "metadata": {},
          "execution_count": 48
        }
      ]
    },
    {
      "cell_type": "markdown",
      "source": [
        "Q.6)\n"
      ],
      "metadata": {
        "id": "01iL1svt06Fc"
      }
    },
    {
      "cell_type": "code",
      "source": [
        "s=input(\"Enter the word\")\n",
        "a=0\n",
        "z=0\n",
        "for i in s:\n",
        "  if s.isdigit():\n",
        "    a=a+1\n",
        "  elif s.isalpha():\n",
        "    z=z+1\n",
        "  else:\n",
        "    pass\n",
        "  print('the number of letters are :',a)\n",
        "  print('the number of digits are :',z)"
      ],
      "metadata": {
        "colab": {
          "base_uri": "https://localhost:8080/"
        },
        "id": "fZdW55ChxGTi",
        "outputId": "be92205b-ce0b-4cc5-9af0-b1ee98709139"
      },
      "execution_count": 63,
      "outputs": [
        {
          "output_type": "stream",
          "name": "stdout",
          "text": [
            "Enter the wordhello8978\n",
            "the number of letters are : 0\n",
            "the number of digits are : 0\n",
            "the number of letters are : 0\n",
            "the number of digits are : 0\n",
            "the number of letters are : 0\n",
            "the number of digits are : 0\n",
            "the number of letters are : 0\n",
            "the number of digits are : 0\n",
            "the number of letters are : 0\n",
            "the number of digits are : 0\n",
            "the number of letters are : 0\n",
            "the number of digits are : 0\n",
            "the number of letters are : 0\n",
            "the number of digits are : 0\n",
            "the number of letters are : 0\n",
            "the number of digits are : 0\n",
            "the number of letters are : 0\n",
            "the number of digits are : 0\n"
          ]
        }
      ]
    },
    {
      "cell_type": "code",
      "source": [
        ""
      ],
      "metadata": {
        "id": "G8D7_pft01os"
      },
      "execution_count": 55,
      "outputs": []
    }
  ]
}